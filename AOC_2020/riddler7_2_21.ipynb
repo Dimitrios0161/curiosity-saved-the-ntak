{
 "cells": [
  {
   "cell_type": "markdown",
   "metadata": {},
   "source": [
    "[Riddler solution](https://fivethirtyeight.com/features/can-you-solve-this-astronomical-enigma/)"
   ]
  },
  {
   "cell_type": "code",
   "execution_count": 15,
   "metadata": {},
   "outputs": [],
   "source": [
    "#find the pairings that cross each other\n",
    "N=11\n",
    "constrain_crossings=[]\n",
    "c=0\n",
    "for a1 in range(N):\n",
    "    for a2 in range(a1+2,a1+N-1):\n",
    "        for b1 in range(a1+1,a2):\n",
    "            for b2 in range(a2+1,a1+N):\n",
    "                if a1%N<a2%N and b1%N<b2%N:\n",
    "                    constrain_crossings.append((a1%N,a2%N,b1%N,b2%N))\n",
    "                    c+=1"
   ]
  },
  {
   "cell_type": "code",
   "execution_count": 21,
   "metadata": {},
   "outputs": [
    {
     "data": {
      "text/plain": [
       "330"
      ]
     },
     "execution_count": 21,
     "metadata": {},
     "output_type": "execute_result"
    }
   ],
   "source": [
    "len(constrain_crossings)"
   ]
  },
  {
   "cell_type": "code",
   "execution_count": 31,
   "metadata": {},
   "outputs": [],
   "source": [
    "#test\n",
    "#find the pairings that cross each other\n",
    "N=11\n",
    "constrain_crossings_2=[]\n",
    "c=0\n",
    "for a1 in range(N):\n",
    "    for a2 in range(a1+2,a1+9):\n",
    "        for b1 in range(a1+1,a2):\n",
    "            for b2 in range(a2+1,a1+N):\n",
    "                if a1%N<a2%N and b1%N<b2%N:\n",
    "                    constrain_crossings_2.append((a1%N,a2%N,b1%N,b2%N))\n",
    "                    c+=1"
   ]
  },
  {
   "cell_type": "code",
   "execution_count": 32,
   "metadata": {},
   "outputs": [
    {
     "data": {
      "text/plain": [
       "322"
      ]
     },
     "execution_count": 32,
     "metadata": {},
     "output_type": "execute_result"
    }
   ],
   "source": [
    "len(constrain_crossings_2)"
   ]
  },
  {
   "cell_type": "code",
   "execution_count": 33,
   "metadata": {},
   "outputs": [
    {
     "data": {
      "text/plain": [
       "[(0, 9, 1, 10),\n",
       " (0, 9, 4, 10),\n",
       " (0, 9, 3, 10),\n",
       " (0, 9, 5, 10),\n",
       " (0, 9, 6, 10),\n",
       " (0, 9, 8, 10),\n",
       " (0, 9, 2, 10),\n",
       " (0, 9, 7, 10)]"
      ]
     },
     "execution_count": 33,
     "metadata": {},
     "output_type": "execute_result"
    }
   ],
   "source": [
    "list(set(constrain_crossings)-set(constrain_crossings_2))"
   ]
  },
  {
   "cell_type": "code",
   "execution_count": 9,
   "metadata": {},
   "outputs": [],
   "source": [
    "from ortools.sat.python import cp_model\n",
    "\n",
    "#LIP solution to a given arrangement\n",
    "def findMax(sequence):\n",
    "    #sequence=[1,4,8,7,11,2,5,9,3,6,10]\n",
    "    model = cp_model.CpModel()\n",
    "    N=len(sequence)\n",
    "    pairings=[[0 for x in range(N)] for y in range(N)]\n",
    "    for i in range(N):\n",
    "        for j in range(i+1,N):\n",
    "            #pairings[i][j]=1\n",
    "            pairings[i][j]=model.NewIntVar(0,1,str(i)+\",\"+str(j))\n",
    "    #print(pairings)\n",
    "    for s in constrain_crossings:\n",
    "        model.Add(pairings[s[0]][s[1]]+pairings[s[2]][s[3]]<=1)\n",
    "\n",
    "    for i in range(N):\n",
    "        model.Add(sum(pairings[i][j]+pairings[j][i] for j in range(N))<=1)\n",
    "\n",
    "    obj=0\n",
    "    for i in range(N):\n",
    "        for j in range(i+1,N):\n",
    "            obj+=sequence[i]*sequence[j]*pairings[i][j]\n",
    "    model.Maximize(obj)\n",
    "    solver = cp_model.CpSolver()\n",
    "    status = solver.Solve(model)\n",
    "    if status == cp_model.OPTIMAL:\n",
    "        total=0\n",
    "        seq=\"\"\n",
    "        for i in range(N):\n",
    "            for j in range(i+1,N):\n",
    "                if solver.Value(pairings[i][j]):\n",
    "                    #print(str(sequence[i])+\",\"+str(sequence[j]))\n",
    "                    total+=sequence[i]*sequence[j]\n",
    "                    seq+=\"(\"+str(sequence[i])+\",\"+str(sequence[j])+\")\"\n",
    "    return total, seq"
   ]
  },
  {
   "cell_type": "code",
   "execution_count": 12,
   "metadata": {},
   "outputs": [
    {
     "name": "stdout",
     "output_type": "stream",
     "text": [
      "(237, '(10,6)(3,4)(9,11)(5,2)(7,8)')\n"
     ]
    }
   ],
   "source": [
    "print(findMax([10,6,3,9,5,2,11,7,8,4,1]))"
   ]
  },
  {
   "cell_type": "code",
   "execution_count": null,
   "metadata": {},
   "outputs": [],
   "source": []
  }
 ],
 "metadata": {
  "kernelspec": {
   "display_name": "Python 3",
   "language": "python",
   "name": "python3"
  },
  "language_info": {
   "codemirror_mode": {
    "name": "ipython",
    "version": 3
   },
   "file_extension": ".py",
   "mimetype": "text/x-python",
   "name": "python",
   "nbconvert_exporter": "python",
   "pygments_lexer": "ipython3",
   "version": "3.6.7"
  }
 },
 "nbformat": 4,
 "nbformat_minor": 2
}
