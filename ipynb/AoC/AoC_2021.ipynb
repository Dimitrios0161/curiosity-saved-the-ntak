{
 "cells": [
  {
   "cell_type": "code",
   "execution_count": 10,
   "outputs": [],
   "source": [
    "from bs4 import BeautifulSoup\n",
    "from urllib.request import urlopen\n",
    "import requests\n",
    "\n",
    "\n",
    "# Helper functions\n",
    "def read_data(u: str):\n",
    "    url = u\n",
    "    cookies = {'session':'53616c7465645f5fabffa0db29ce631d051791fd732f773acffb29b7f6d517d590495beba259eeaf773eaffe0ce1f5229e63c9c2310a7c0fd4e8cf2933f5fbf5'}\n",
    "    session = requests.Session()\n",
    "    session.cookies.update(cookies)\n",
    "    page = session.get(url)\n",
    "    soup = BeautifulSoup(page.text, \"html.parser\")\n",
    "\n",
    "    return soup\n",
    "\n",
    "def list_of_ints(l) -> list:\n",
    "    # converts a set of 'vertically' listed string-integers to a list of integers by:\n",
    "    # 1. stripping returns and replacing them with spaces\n",
    "    # 2. splitting the elements of the list\n",
    "    # 3. mapping the string integers to a list of integers\n",
    "    lst_of_ints = list(map(int,(str(l).replace(\"/n\",\" \").strip()).split()))\n",
    "    return lst_of_ints"
   ],
   "metadata": {
    "collapsed": false,
    "pycharm": {
     "name": "#%%\n"
    }
   }
  },
  {
   "cell_type": "code",
   "execution_count": 12,
   "outputs": [
    {
     "data": {
      "text/plain": "1564"
     },
     "execution_count": 12,
     "metadata": {},
     "output_type": "execute_result"
    }
   ],
   "source": [
    "#part1\n",
    "\n",
    "input = list_of_ints(read_data('https://adventofcode.com/2021/day/1/input'))\n",
    "\n",
    "counter_1 = 0\n",
    "for i in range(len(input)-1):\n",
    "    if input[i]-input[i+1] < 0:\n",
    "        counter_1 += 1\n",
    "\n",
    "counter_1"
   ],
   "metadata": {
    "collapsed": false,
    "pycharm": {
     "name": "#%%\n"
    }
   }
  },
  {
   "cell_type": "code",
   "execution_count": 13,
   "outputs": [
    {
     "data": {
      "text/plain": "1611"
     },
     "execution_count": 13,
     "metadata": {},
     "output_type": "execute_result"
    }
   ],
   "source": [
    "#part2 - 3days rolling window\n",
    "counter_2 = 0\n",
    "\n",
    "sliding_window = []\n",
    "\n",
    "for i in range (0,len(input)-2):\n",
    "    sliding_window.append(input[i]+input[i+1]+input[i+2])\n",
    "\n",
    "\n",
    "for i in range(len(sliding_window)-1):\n",
    "    if sliding_window[i]-sliding_window[i+1] < 0:\n",
    "        counter_2 += 1\n",
    "\n",
    "counter_2"
   ],
   "metadata": {
    "collapsed": false,
    "pycharm": {
     "name": "#%%\n"
    }
   }
  },
  {
   "cell_type": "code",
   "execution_count": 24,
   "outputs": [],
   "source": [
    "import seaborn as sns\n",
    "import pandas as pd\n",
    "import matplotlib.pyplot as plt\n",
    "\n",
    "sns.set(style=\"darkgrid\")"
   ],
   "metadata": {
    "collapsed": false,
    "pycharm": {
     "name": "#%%\n"
    }
   }
  },
  {
   "cell_type": "code",
   "execution_count": 21,
   "outputs": [],
   "source": [
    "df_measurements = pd.DataFrame({'Single_Measurements': input[:-2],'Sliding_Window': sliding_window})"
   ],
   "metadata": {
    "collapsed": false,
    "pycharm": {
     "name": "#%%\n"
    }
   }
  },
  {
   "cell_type": "code",
   "execution_count": 26,
   "outputs": [
    {
     "data": {
      "text/plain": "<Figure size 432x288 with 1 Axes>",
      "image/png": "[encoded data removed]"
     },
     "metadata": {},
     "output_type": "display_data"
    }
   ],
   "source": [
    "plt.plot(df_measurements); plt.ylabel('Depth'); plt.gca().invert_yaxis();"
   ],
   "metadata": {
    "collapsed": false,
    "pycharm": {
     "name": "#%%\n"
    }
   }
  },
  {
   "cell_type": "code",
   "execution_count": null,
   "outputs": [],
   "source": [],
   "metadata": {
    "collapsed": false,
    "pycharm": {
     "name": "#%%\n"
    }
   }
  }
 ],
 "metadata": {
  "kernelspec": {
   "display_name": "Python 3",
   "language": "python",
   "name": "python3"
  },
  "language_info": {
   "codemirror_mode": {
    "name": "ipython",
    "version": 2
   },
   "file_extension": ".py",
   "mimetype": "text/x-python",
   "name": "python",
   "nbconvert_exporter": "python",
   "pygments_lexer": "ipython2",
   "version": "2.7.6"
  }
 },
 "nbformat": 4,
 "nbformat_minor": 0
}